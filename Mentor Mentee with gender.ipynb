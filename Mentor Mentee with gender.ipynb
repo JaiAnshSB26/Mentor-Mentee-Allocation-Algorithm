{
 "cells": [
  {
   "cell_type": "markdown",
   "id": "7b5c7546",
   "metadata": {},
   "source": [
    "### Please note if you have any queries/feedback, please don't hesitate to reach me at - jai-ansh.bindra@polytechnique.edu ###"
   ]
  },
  {
   "cell_type": "code",
   "execution_count": 13,
   "id": "6b6176c4",
   "metadata": {},
   "outputs": [],
   "source": [
    "# Imports\n",
    "import pandas as pd\n",
    "import numpy as np\n",
    "from sklearn.feature_extraction.text import CountVectorizer\n",
    "from sklearn.metrics.pairwise import cosine_similarity"
   ]
  },
  {
   "cell_type": "code",
   "execution_count": 14,
   "id": "f03f5636",
   "metadata": {},
   "outputs": [],
   "source": [
    "# Load the Excel file\n",
    "file_path = '/Users/jaianshsinghbindra/Downloads/Mentor Mentee Algorithm./Sample-Data.xlsx'\n",
    "df = pd.read_excel(file_path)"
   ]
  },
  {
   "cell_type": "code",
   "execution_count": 15,
   "id": "73bd581d",
   "metadata": {},
   "outputs": [],
   "source": [
    "# Handle missing values by replacing with empty strings\n",
    "df.fillna('', inplace=True)"
   ]
  },
  {
   "cell_type": "code",
   "execution_count": 16,
   "id": "c28eaa97",
   "metadata": {},
   "outputs": [],
   "source": [
    "# Separate mentors and mentees\n",
    "mentors = df[df['Email @polytechnique.edu'].str.contains('@polytechnique.edu')].copy()\n",
    "mentees = df[~df['Email @polytechnique.edu'].str.contains('@polytechnique.edu')].copy()"
   ]
  },
  {
   "cell_type": "code",
   "execution_count": 17,
   "id": "ae71094d",
   "metadata": {},
   "outputs": [],
   "source": [
    "# Ensure gender information is available (Depends if you want to use the gender as a factor or not.)\n",
    "if 'Gender' not in mentors.columns or 'Gender' not in mentees.columns:\n",
    "    raise ValueError(\"Gender information is missing in the dataset\")\n",
    "\n",
    "# Helper function to combine interests\n",
    "def combine_interests(row):\n",
    "    return f\"{row['Hobbies (3 choice max)']} {row['What genre of music do you like?']} {row['What would you like to do in Paris']} {row['Regarding the previous question, any plans/ideas in particular?']}\""
   ]
  },
  {
   "cell_type": "code",
   "execution_count": 19,
   "id": "dd29a86a",
   "metadata": {},
   "outputs": [],
   "source": [
    "# Main constructs happen here.\n",
    "mentors['combined_interests'] = mentors.apply(combine_interests, axis=1)\n",
    "mentees['combined_interests'] = mentees.apply(combine_interests, axis=1)\n",
    "\n",
    "vectorizer = CountVectorizer().fit_transform(mentors['combined_interests'].tolist() + mentees['combined_interests'].tolist())\n",
    "vectors = vectorizer.toarray()\n",
    "\n",
    "mentor_vectors = vectors[:len(mentors)]\n",
    "mentee_vectors = vectors[len(mentors):]\n",
    "\n",
    "similarity_matrix = cosine_similarity(mentor_vectors, mentee_vectors)"
   ]
  },
  {
   "cell_type": "code",
   "execution_count": 20,
   "id": "5f50dd32",
   "metadata": {},
   "outputs": [],
   "source": [
    "# Initialize mentor-mentee allocation\n",
    "mentor_mentee_allocation = {mentor: [] for mentor in mentors['Full name']}\n",
    "mentor_capacity = {mentor: 5 for mentor in mentors['Full name']}\n",
    "mentor_gender_constraints = {mentor: {'Male': 0, 'Female': 0} for mentor in mentors['Full name']}"
   ]
  },
  {
   "cell_type": "code",
   "execution_count": 21,
   "id": "14cdd29e",
   "metadata": {},
   "outputs": [],
   "source": [
    "#Actual allocation occurs here.\n",
    "for i in range(len(mentees)):\n",
    "    mentee_gender = mentees.iloc[i]['Gender']\n",
    "    sorted_indices = np.argsort(similarity_matrix[:, i])[::-1]\n",
    "    allocated = False\n",
    "    \n",
    "    for idx in sorted_indices:\n",
    "        mentor_name = mentors.iloc[idx]['Full name']\n",
    "        if len(mentor_mentee_allocation[mentor_name]) < mentor_capacity[mentor_name]:\n",
    "            if mentor_gender_constraints[mentor_name][mentee_gender] < (3 if mentee_gender == 'Male' else 2):\n",
    "                mentor_mentee_allocation[mentor_name].append(mentees.iloc[i]['Full name'])\n",
    "                mentor_gender_constraints[mentor_name][mentee_gender] += 1\n",
    "                allocated = True\n",
    "                break\n",
    "    \n",
    "    if not allocated:\n",
    "        # If not allocated based on similarity, allocate to any mentor with available capacity\n",
    "        for mentor_name in mentor_mentee_allocation.keys():\n",
    "            if len(mentor_mentee_allocation[mentor_name]) < mentor_capacity[mentor_name]:\n",
    "                mentor_mentee_allocation[mentor_name].append(mentees.iloc[i]['Full name'])\n",
    "                mentor_gender_constraints[mentor_name][mentee_gender] += 1\n",
    "                break"
   ]
  },
  {
   "cell_type": "code",
   "execution_count": 22,
   "id": "b57912dc",
   "metadata": {},
   "outputs": [
    {
     "name": "stdout",
     "output_type": "stream",
     "text": [
      "Mentor: Alice Smith, Mentees: ['Eve Davis']\n",
      "Mentor: Bob Johnson, Mentees: ['Frank Moore', 'Jack Taylor']\n",
      "Mentor: Carol White, Mentees: ['Grace Lee', 'Ivy Martinez']\n",
      "Mentor: David Brown, Mentees: ['Henry Wilson']\n"
     ]
    }
   ],
   "source": [
    "#You display/print the results here.\n",
    "for mentor, mentees in mentor_mentee_allocation.items():\n",
    "    print(f\"Mentor: {mentor}, Mentees: {mentees}\")"
   ]
  },
  {
   "cell_type": "code",
   "execution_count": 24,
   "id": "02598d6a",
   "metadata": {},
   "outputs": [
    {
     "name": "stdout",
     "output_type": "stream",
     "text": [
      "Mentor: Alice Smith, Mentees: ['Eve Davis']\n",
      "Mentor: Bob Johnson, Mentees: ['Frank Moore', 'Jack Taylor']\n",
      "Mentor: Carol White, Mentees: ['Grace Lee', 'Ivy Martinez']\n",
      "Mentor: David Brown, Mentees: ['Henry Wilson']\n"
     ]
    }
   ],
   "source": [
    "#Here I just did some further very minor adjustments to meet the specifications of my data.\n",
    "import pandas as pd\n",
    "import numpy as np\n",
    "from sklearn.feature_extraction.text import CountVectorizer\n",
    "from sklearn.metrics.pairwise import cosine_similarity\n",
    "\n",
    "# Load the Excel file\n",
    "file_path = '/Users/jaianshsinghbindra/Downloads/Mentor Mentee Algorithm./Sample-Data.xlsx'\n",
    "df = pd.read_excel(file_path)\n",
    "\n",
    "# Handle missing values by replacing with empty strings\n",
    "df.fillna('', inplace=True)\n",
    "\n",
    "# Separate mentors and mentees\n",
    "mentors = df[df['Email @polytechnique.edu'].str.contains('@polytechnique.edu')].copy()\n",
    "mentees = df[~df['Email @polytechnique.edu'].str.contains('@polytechnique.edu')].copy()\n",
    "\n",
    "# Ensure gender information is available\n",
    "if 'Gender' not in mentors.columns or 'Gender' not in mentees.columns:\n",
    "    raise ValueError(\"Gender information is missing in the dataset\")\n",
    "\n",
    "# Helper function to combine interests\n",
    "def combine_interests(row):\n",
    "    return f\"{row['Hobbies (3 choice max)']} {row['What genre of music do you like?']} {row['What would you like to do in Paris']} {row['Regarding the previous question, any plans/ideas in particular?']}\"\n",
    "\n",
    "mentors['combined_interests'] = mentors.apply(combine_interests, axis=1)\n",
    "mentees['combined_interests'] = mentees.apply(combine_interests, axis=1)\n",
    "\n",
    "vectorizer = CountVectorizer().fit_transform(mentors['combined_interests'].tolist() + mentees['combined_interests'].tolist())\n",
    "vectors = vectorizer.toarray()\n",
    "\n",
    "mentor_vectors = vectors[:len(mentors)]\n",
    "mentee_vectors = vectors[len(mentors):]\n",
    "\n",
    "similarity_matrix = cosine_similarity(mentor_vectors, mentee_vectors)\n",
    "\n",
    "# Initialize mentor-mentee allocation\n",
    "mentor_mentee_allocation = {mentor: [] for mentor in mentors['Full name']}\n",
    "mentor_capacity = {mentor: 5 for mentor in mentors['Full name']}\n",
    "mentor_gender_constraints = {mentor: {'Male': 0, 'Female': 0} for mentor in mentors['Full name']}\n",
    "\n",
    "# Allocate mentees to mentors\n",
    "for i in range(len(mentees)):\n",
    "    mentee_gender = mentees.iloc[i]['Gender']\n",
    "    sorted_indices = np.argsort(similarity_matrix[:, i])[::-1]\n",
    "    allocated = False\n",
    "    \n",
    "    for idx in sorted_indices:\n",
    "        mentor_name = mentors.iloc[idx]['Full name']\n",
    "        if len(mentor_mentee_allocation[mentor_name]) < mentor_capacity[mentor_name]:\n",
    "            if mentor_gender_constraints[mentor_name][mentee_gender] < (3 if mentee_gender == 'Male' else 2):\n",
    "                mentor_mentee_allocation[mentor_name].append(mentees.iloc[i]['Full name'])\n",
    "                mentor_gender_constraints[mentor_name][mentee_gender] += 1\n",
    "                allocated = True\n",
    "                break\n",
    "    \n",
    "    if not allocated:\n",
    "        # If not allocated based on similarity, allocate to any mentor with available capacity\n",
    "        for mentor_name in mentor_mentee_allocation.keys():\n",
    "            if len(mentor_mentee_allocation[mentor_name]) < mentor_capacity[mentor_name]:\n",
    "                mentor_mentee_allocation[mentor_name].append(mentees.iloc[i]['Full name'])\n",
    "                mentor_gender_constraints[mentor_name][mentee_gender] += 1\n",
    "                break\n",
    "\n",
    "# Display the allocation\n",
    "for mentor, mentees in mentor_mentee_allocation.items():\n",
    "    print(f\"Mentor: {mentor}, Mentees: {mentees}\")\n"
   ]
  },
  {
   "cell_type": "code",
   "execution_count": null,
   "id": "cd7da009",
   "metadata": {},
   "outputs": [],
   "source": [
    "#Finally convert the allocation you generated to an excel file.\n",
    "output_file_path = 'Your_file_path_for_output_file_here.xlsx'\n",
    "allocation_df.to_excel(output_file_path, index=False)"
   ]
  }
 ],
 "metadata": {
  "kernelspec": {
   "display_name": "Python 3 (ipykernel)",
   "language": "python",
   "name": "python3"
  },
  "language_info": {
   "codemirror_mode": {
    "name": "ipython",
    "version": 3
   },
   "file_extension": ".py",
   "mimetype": "text/x-python",
   "name": "python",
   "nbconvert_exporter": "python",
   "pygments_lexer": "ipython3",
   "version": "3.11.4"
  }
 },
 "nbformat": 4,
 "nbformat_minor": 5
}
